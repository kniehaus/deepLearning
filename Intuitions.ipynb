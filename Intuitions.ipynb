{
 "cells": [
  {
   "cell_type": "markdown",
   "metadata": {},
   "source": [
    "# Some functions to help with intuition behind NNs\n",
    "\n",
    "Written by KN, Nov 2016\n",
    "\n",
    "Much of code originally from: http://cs231n.github.io/"
   ]
  },
  {
   "cell_type": "code",
   "execution_count": 16,
   "metadata": {
    "collapsed": true
   },
   "outputs": [],
   "source": [
    "# Import modules\n",
    "%matplotlib inline\n",
    "import numpy as np\n",
    "import matplotlib.pylab as plt\n"
   ]
  },
  {
   "cell_type": "code",
   "execution_count": 24,
   "metadata": {
    "collapsed": false
   },
   "outputs": [
    {
     "data": {
      "text/plain": [
       "(1, 5)"
      ]
     },
     "execution_count": 24,
     "metadata": {},
     "output_type": "execute_result"
    }
   ],
   "source": [
    "# Example of forward-pass of 3-layer NN\n",
    "nR_in = 3; nC_in = 5\n",
    "nN1 = 4\n",
    "nN2 = 2\n",
    "nClass = 1\n",
    "\n",
    "# Define some data for example\n",
    "x = np.random.randn(nR_in,nC_in)   # each column is an example, here\n",
    "# Initalize params to learn (symmetry breaking)\n",
    "# really should also normalize variance by dividing by sqrt\n",
    "W1 = np.sqrt(2.0/nN1)*np.random.randn(nN1,nR_in)\n",
    "b1 = np.zeros((nN1,nC_in))\n",
    "W2 = np.sqrt(2.0/nN2)*np.random.randn(nN2, nN1)\n",
    "b2 = np.zeros((nN2,nC_in))\n",
    "W3 = np.sqrt(2.0/nClass)*np.random.randn(nClass, nN2)\n",
    "b3 = np.zeros((nClass, nC_in))\n",
    "\n",
    "# Activation fxn\n",
    "f = lambda x: np.maximum(np.zeros_like(x),x)   # ReLU\n",
    "\n",
    "h1 = f(np.dot(W1,x) + b1)\n",
    "h2 = f(np.dot(W2, h1) + b2)\n",
    "out = np.dot(W3, h2) + b3\n",
    "\n",
    "np.shape(out)"
   ]
  },
  {
   "cell_type": "code",
   "execution_count": 25,
   "metadata": {
    "collapsed": false
   },
   "outputs": [
    {
     "data": {
      "text/plain": [
       "(array([ 4.,  0.,  0.,  2.,  2.,  0.,  1.,  0.,  0.,  3.]),\n",
       " array([-0.90900945, -0.71540971, -0.52180996, -0.32821021, -0.13461047,\n",
       "         0.05898928,  0.25258902,  0.44618877,  0.63978851,  0.83338826,\n",
       "         1.02698801]),\n",
       " <a list of 10 Patch objects>)"
      ]
     },
     "execution_count": 25,
     "metadata": {},
     "output_type": "execute_result"
    },
    {
     "data": {
      "image/png": "[encoded data removed]",
      "text/plain": [
       "<matplotlib.figure.Figure at 0x106fbc910>"
      ]
     },
     "metadata": {},
     "output_type": "display_data"
    }
   ],
   "source": [
    "plt.hist(np.ravel(W1),10)"
   ]
  },
  {
   "cell_type": "code",
   "execution_count": 23,
   "metadata": {
    "collapsed": false
   },
   "outputs": [
    {
     "data": {
      "text/plain": [
       "0.70710678118654757"
      ]
     },
     "execution_count": 23,
     "metadata": {},
     "output_type": "execute_result"
    }
   ],
   "source": [
    "np.sqrt(2.0/4)"
   ]
  },
  {
   "cell_type": "code",
   "execution_count": null,
   "metadata": {
    "collapsed": true
   },
   "outputs": [],
   "source": []
  },
  {
   "cell_type": "code",
   "execution_count": null,
   "metadata": {
    "collapsed": true
   },
   "outputs": [],
   "source": []
  }
 ],
 "metadata": {
  "kernelspec": {
   "display_name": "Python 2",
   "language": "python",
   "name": "python2"
  },
  "language_info": {
   "codemirror_mode": {
    "name": "ipython",
    "version": 2
   },
   "file_extension": ".py",
   "mimetype": "text/x-python",
   "name": "python",
   "nbconvert_exporter": "python",
   "pygments_lexer": "ipython2",
   "version": "2.7.11"
  }
 },
 "nbformat": 4,
 "nbformat_minor": 0
}
