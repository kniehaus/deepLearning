{
 "cells": [
  {
   "cell_type": "markdown",
   "metadata": {},
   "source": [
    "## Loading a model from a checkpoint"
   ]
  },
  {
   "cell_type": "code",
   "execution_count": 1,
   "metadata": {
    "collapsed": true
   },
   "outputs": [],
   "source": [
    "import os\n",
    "%matplotlib inline\n",
    "import tensorflow as tf\n",
    "import numpy as np\n",
    "import matplotlib.pyplot as plt\n",
    "from tensorflow.python.framework import graph_util"
   ]
  },
  {
   "cell_type": "code",
   "execution_count": 3,
   "metadata": {
    "collapsed": true
   },
   "outputs": [],
   "source": [
    "def linearLayer(x, n_output, name=None, activation=None, reuse=None):\n",
    "    \"\"\"Fully connected layer.\n",
    "    Parameters\n",
    "    ----------\n",
    "    x : tf.Tensor\n",
    "        Input tensor to connect\n",
    "    n_output : int\n",
    "        Number of output neurons\n",
    "    name : None, optional\n",
    "        Scope to apply\n",
    "    Returns\n",
    "    -------\n",
    "    h, W : tf.Tensor, tf.Tensor\n",
    "        Output of fully connected layer and the weight matrix\n",
    "    \"\"\"\n",
    "    if len(x.get_shape()) != 2:\n",
    "        x = flatten(x, reuse=reuse)\n",
    "\n",
    "    n_input = x.get_shape().as_list()[1]\n",
    "\n",
    "    with tf.variable_scope(name or \"fc\", reuse=reuse):\n",
    "        W = tf.get_variable(\n",
    "            name='W',\n",
    "            shape=[n_input, n_output],\n",
    "            dtype=tf.float32,\n",
    "            initializer=tf.contrib.layers.xavier_initializer())\n",
    "\n",
    "        b = tf.get_variable(\n",
    "            name='b',\n",
    "            shape=[n_output],\n",
    "            dtype=tf.float32,\n",
    "            initializer=tf.constant_initializer(0.0))\n",
    "\n",
    "        h = tf.nn.bias_add(\n",
    "            name='h',\n",
    "            value=tf.matmul(x, W),\n",
    "            bias=b)\n",
    "\n",
    "        if activation:\n",
    "            h = activation(h)\n",
    "\n",
    "        return h, W\n",
    "    \n",
    "def flatten(x, name=None, reuse=None):\n",
    "    \"\"\"Flatten Tensor to 2-dimensions.\n",
    "    Parameters\n",
    "    ----------\n",
    "    x : tf.Tensor\n",
    "        Input tensor to flatten.\n",
    "    name : None, optional\n",
    "        Variable scope for flatten operations\n",
    "    Returns\n",
    "    -------\n",
    "    flattened : tf.Tensor\n",
    "        Flattened tensor.\n",
    "    \"\"\"\n",
    "    with tf.variable_scope('flatten'):\n",
    "        dims = x.get_shape().as_list()\n",
    "        if len(dims) == 4:\n",
    "            flattened = tf.reshape(\n",
    "                x,\n",
    "                shape=[-1, dims[1] * dims[2] * dims[3]])\n",
    "        elif len(dims) == 2 or len(dims) == 1:\n",
    "            flattened = x\n",
    "        else:\n",
    "            raise ValueError('Expected n dimensions of 1, 2 or 4.  Found:',\n",
    "                             len(dims))\n",
    "\n",
    "        return flattened"
   ]
  },
  {
   "cell_type": "code",
   "execution_count": 3,
   "metadata": {
    "collapsed": false
   },
   "outputs": [],
   "source": [
    "# Need to first define all tensors in model, as if starting from scratch\n",
    "\n",
    "n_features = 784\n",
    "n_labels = 10\n",
    "width = 28\n",
    "\n",
    "X = tf.placeholder(tf.float32, [None, n_features])\n",
    "Y = tf.placeholder(tf.float32, [None, n_labels])\n",
    "\n",
    "# Need to reshape b/c doing convolutions\n",
    "X_tensor = tf.reshape(X, [-1, width, width, 1])\n",
    "\n",
    "# Define first layer\n",
    "filter_size = 5\n",
    "n_filters_in = 1\n",
    "n_filters_out = 32\n",
    "\n",
    "W_1 = tf.get_variable(\n",
    "    name='W',\n",
    "    shape=[filter_size, filter_size, n_filters_in, n_filters_out],\n",
    "    initializer=tf.random_normal_initializer())\n",
    "\n",
    "b_1 = tf.get_variable(\n",
    "    name='b',\n",
    "    shape=[n_filters_out],\n",
    "    initializer=tf.constant_initializer())\n",
    "\n",
    "h_1 = tf.nn.relu(\n",
    "    tf.nn.bias_add(\n",
    "        tf.nn.conv2d(input=X_tensor,\n",
    "                     filter=W_1,\n",
    "                     strides=[1, 2, 2, 1],\n",
    "                     padding='SAME'),\n",
    "                    b_1))\n",
    "\n",
    "# Define second layer\n",
    "n_filters_in = 32\n",
    "n_filters_out = 64\n",
    "\n",
    "W_2 = tf.get_variable(\n",
    "    name='W2',\n",
    "    shape=[filter_size, filter_size, n_filters_in, n_filters_out],\n",
    "    initializer=tf.random_normal_initializer())\n",
    "\n",
    "b_2 = tf.get_variable(\n",
    "    name='b2',\n",
    "    shape=[n_filters_out],\n",
    "    initializer=tf.constant_initializer())\n",
    "\n",
    "h_2 = tf.nn.relu(\n",
    "    tf.nn.bias_add(\n",
    "        tf.nn.conv2d(input=h_1,\n",
    "                 filter=W_2,\n",
    "                 strides=[1, 2, 2, 1],\n",
    "                 padding='SAME'),\n",
    "                 b_2))\n",
    "\n",
    "# Now connect to a fully-connected/linear layer:\n",
    "magicNum = 7  # ??\n",
    "h_2_flat = tf.reshape(h_2, [-1, magicNum * magicNum * n_filters_out])\n",
    "\n",
    "n_out = 128\n",
    "h_3, W = linearLayer(h_2_flat, n_out, activation=tf.nn.relu, name='fc_1')\n",
    "\n",
    "# And one final FC layer & softmax to get probs\n",
    "Y_pred, W = linearLayer(h_3, n_labels, activation=tf.nn.softmax, name='fc_2')\n",
    "\n",
    "# Define loss fxn in same way\n",
    "cross_entropy = -tf.reduce_sum(Y * tf.log(Y_pred + 1e-12))\n",
    "optimizer = tf.train.AdamOptimizer().minimize(cross_entropy)\n",
    "\n",
    "# with accuracy for our monitoring\n",
    "correct_prediction = tf.equal(tf.argmax(Y_pred, 1), tf.argmax(Y, 1))\n",
    "accuracy = tf.reduce_mean(tf.cast(correct_prediction, 'float'))"
   ]
  },
  {
   "cell_type": "code",
   "execution_count": 4,
   "metadata": {
    "collapsed": false
   },
   "outputs": [
    {
     "name": "stdout",
     "output_type": "stream",
     "text": [
      "Model restored.\n"
     ]
    }
   ],
   "source": [
    "sess = tf.Session()\n",
    "sess.run(tf.initialize_all_variables())\n",
    "saver = tf.train.Saver()\n",
    "\n",
    "FN = \"/Users/kateniehaus/Dropbox/machine learning/Deep/Kadenze/model_4layerconvnet-mnist.ckpt\"\n",
    "\n",
    "if os.path.exists(FN):\n",
    "    saver.restore(sess, FN)\n",
    "    print(\"Model restored.\")"
   ]
  },
  {
   "cell_type": "code",
   "execution_count": null,
   "metadata": {
    "collapsed": true
   },
   "outputs": [],
   "source": []
  },
  {
   "cell_type": "code",
   "execution_count": 5,
   "metadata": {
    "collapsed": true
   },
   "outputs": [],
   "source": [
    "# Now look at layers again to check if same\n",
    "# Look at layers inside\n",
    "W1 = sess.run(W_1)"
   ]
  },
  {
   "cell_type": "code",
   "execution_count": 7,
   "metadata": {
    "collapsed": true
   },
   "outputs": [],
   "source": [
    "def plotLayerRaw(W, figsize=[8,8], dim2=0):\n",
    "    \"\"\" Plots pcolormesh of learned filter weights\"\"\"\n",
    "    numR = int(np.ceil(np.sqrt(W.shape[3])))\n",
    "    plt.figure(figsize=figsize)\n",
    "    for i in range(W.shape[3]):\n",
    "        plt.subplot(numR, numR, i+1)\n",
    "        plt.pcolormesh(W[:,:,dim2,i], cmap='Greys')\n",
    "    plt.tight_layout()"
   ]
  },
  {
   "cell_type": "code",
   "execution_count": 8,
   "metadata": {
    "collapsed": false
   },
   "outputs": [
    {
     "name": "stdout",
     "output_type": "stream",
     "text": [
      "(5, 5, 1, 32)\n"
     ]
    },
    {
     "data": {
      "image/png": "[encoded data removed]",
      "text/plain": [
       "<matplotlib.figure.Figure at 0x10d958b50>"
      ]
     },
     "metadata": {},
     "output_type": "display_data"
    }
   ],
   "source": [
    "print(W1.shape)\n",
    "\n",
    "plotLayerRaw(W1)"
   ]
  },
  {
   "cell_type": "markdown",
   "metadata": {},
   "source": [
    "Yes, it is the same"
   ]
  },
  {
   "cell_type": "markdown",
   "metadata": {},
   "source": [
    "## Making a protobuf to save model\n",
    "\n",
    "## ... Can't get to work [!]"
   ]
  },
  {
   "cell_type": "code",
   "execution_count": 1,
   "metadata": {
    "collapsed": true
   },
   "outputs": [],
   "source": [
    "def create_network():\n",
    "    \"\"\"Creates graph as fxn\"\"\"\n",
    "    \n",
    "    n_features = 784\n",
    "    n_labels = 10\n",
    "    width = 28\n",
    "\n",
    "    X = tf.placeholder(tf.float32, [None, n_features], name='X')\n",
    "    Y = tf.placeholder(tf.float32, [None, n_labels], name='Y')\n",
    "\n",
    "    # Need to reshape b/c doing convolutions\n",
    "    X_tensor = tf.reshape(X, [-1, width, width, 1])\n",
    "\n",
    "    # Define first layer\n",
    "    filter_size = 5\n",
    "    n_filters_in = 1\n",
    "    n_filters_out = 32\n",
    "\n",
    "    W_1 = tf.get_variable(\n",
    "        name='W',\n",
    "        shape=[filter_size, filter_size, n_filters_in, n_filters_out],\n",
    "        initializer=tf.random_normal_initializer())\n",
    "\n",
    "    b_1 = tf.get_variable(\n",
    "        name='b',\n",
    "        shape=[n_filters_out],\n",
    "        initializer=tf.constant_initializer())\n",
    "\n",
    "    h_1 = tf.nn.relu(\n",
    "        tf.nn.bias_add(\n",
    "            tf.nn.conv2d(input=X_tensor,\n",
    "                         filter=W_1,\n",
    "                         strides=[1, 2, 2, 1],\n",
    "                         padding='SAME'),\n",
    "                        b_1))\n",
    "\n",
    "    # Define second layer\n",
    "    n_filters_in = 32\n",
    "    n_filters_out = 64\n",
    "\n",
    "    W_2 = tf.get_variable(\n",
    "        name='W2',\n",
    "        shape=[filter_size, filter_size, n_filters_in, n_filters_out],\n",
    "        initializer=tf.random_normal_initializer())\n",
    "\n",
    "    b_2 = tf.get_variable(\n",
    "        name='b2',\n",
    "        shape=[n_filters_out],\n",
    "        initializer=tf.constant_initializer())\n",
    "\n",
    "    h_2 = tf.nn.relu(\n",
    "        tf.nn.bias_add(\n",
    "            tf.nn.conv2d(input=h_1,\n",
    "                     filter=W_2,\n",
    "                     strides=[1, 2, 2, 1],\n",
    "                     padding='SAME'),\n",
    "                     b_2))\n",
    "\n",
    "    # Now connect to a fully-connected/linear layer:\n",
    "    magicNum = 7  # ??\n",
    "    h_2_flat = tf.reshape(h_2, [-1, magicNum * magicNum * n_filters_out])\n",
    "\n",
    "    n_out = 128\n",
    "    h_3, W = linearLayer(h_2_flat, n_out, activation=tf.nn.relu, name='fc_1')\n",
    "\n",
    "    # And one final FC layer & softmax to get probs\n",
    "    Y_pred, W = linearLayer(h_3, n_labels, activation=tf.nn.softmax, name='fc_2')\n",
    "\n",
    "    # Define loss fxn in same way\n",
    "    cross_entropy = -tf.reduce_sum(Y * tf.log(Y_pred + 1e-12))\n",
    "    optimizer = tf.train.AdamOptimizer().minimize(cross_entropy)\n",
    "\n",
    "    # with accuracy for our monitoring\n",
    "    correct_prediction = tf.equal(tf.argmax(Y_pred, 1), tf.argmax(Y, 1))\n",
    "    accuracy = tf.reduce_mean(tf.cast(correct_prediction, 'float'))"
   ]
  },
  {
   "cell_type": "code",
   "execution_count": 4,
   "metadata": {
    "collapsed": true
   },
   "outputs": [],
   "source": [
    "# define some things\n",
    "path_protob_save = '/Users/kateniehaus/Dropbox/machine learning/Deep/Kadenze/'\n",
    "fname_protob = 'testModel_tutorial3'\n",
    "output_nodes = ['Y']   #  name of output node\n",
    "ckpt_name = \"/Users/kateniehaus/Dropbox/machine learning/Deep/Kadenze/model_4layerconvnet-mnist.ckpt\""
   ]
  },
  {
   "cell_type": "code",
   "execution_count": 20,
   "metadata": {
    "collapsed": true
   },
   "outputs": [],
   "source": [
    "graph_util.convert_variables_to_constants?"
   ]
  },
  {
   "cell_type": "code",
   "execution_count": 5,
   "metadata": {
    "collapsed": false
   },
   "outputs": [
    {
     "name": "stdout",
     "output_type": "stream",
     "text": [
      "Converted 0 variables to const ops.\n"
     ]
    }
   ],
   "source": [
    "# convert variables to constants\n",
    "g_1 = tf.Graph()\n",
    "with tf.Session(graph=g_1) as sess:\n",
    "    #x = tf.placeholder(tf.float32, shape=(1, 224, 224, 3))\n",
    "    # Code to create graph\n",
    "    net = create_network()\n",
    "    sess.run(tf.initialize_all_variables())\n",
    "    # restore from checkpoint\n",
    "    saver = tf.train.Saver()\n",
    "    saver.restore(sess, ckpt_name)\n",
    "    # convert variables to constants\n",
    "    graph_def = graph_util.convert_variables_to_constants(sess, sess.graph_def, output_nodes)"
   ]
  },
  {
   "cell_type": "code",
   "execution_count": 8,
   "metadata": {
    "collapsed": false
   },
   "outputs": [],
   "source": [
    "# save as protobuf\n",
    "g_2 = tf.Graph()\n",
    "with tf.Session(graph=g_2) as sess:\n",
    "    tf.train.write_graph(\n",
    "        graph_util.extract_sub_graph(\n",
    "            graph_def, output_nodes), path_protob_save, fname_protob, as_text=False)"
   ]
  },
  {
   "cell_type": "code",
   "execution_count": 5,
   "metadata": {
    "collapsed": true
   },
   "outputs": [],
   "source": [
    "tf.import_graph_def?"
   ]
  },
  {
   "cell_type": "code",
   "execution_count": 6,
   "metadata": {
    "collapsed": false
   },
   "outputs": [],
   "source": [
    "# import model again\n",
    "fname_protob_whole = '/Users/kateniehaus/Dropbox/machine learning/Deep/Kadenze/testModel_tutorial3'\n",
    "\n",
    "with open(fname_protob_whole, mode='rb') as f:\n",
    "    graph_def = tf.GraphDef()\n",
    "    graph_def.ParseFromString(f.read())\n",
    "\n",
    "tf.import_graph_def(graph_def, name='model')"
   ]
  },
  {
   "cell_type": "code",
   "execution_count": 7,
   "metadata": {
    "collapsed": false
   },
   "outputs": [
    {
     "ename": "NameError",
     "evalue": "name 'W_1' is not defined",
     "output_type": "error",
     "traceback": [
      "\u001b[0;31m---------------------------------------------------------------------------\u001b[0m",
      "\u001b[0;31mNameError\u001b[0m                                 Traceback (most recent call last)",
      "\u001b[0;32m<ipython-input-7-0ee26ecda6e0>\u001b[0m in \u001b[0;36m<module>\u001b[0;34m()\u001b[0m\n\u001b[1;32m      2\u001b[0m \u001b[0msess\u001b[0m \u001b[0;34m=\u001b[0m \u001b[0mtf\u001b[0m\u001b[0;34m.\u001b[0m\u001b[0mSession\u001b[0m\u001b[0;34m(\u001b[0m\u001b[0;34m)\u001b[0m\u001b[0;34m\u001b[0m\u001b[0m\n\u001b[1;32m      3\u001b[0m \u001b[0msess\u001b[0m\u001b[0;34m.\u001b[0m\u001b[0mrun\u001b[0m\u001b[0;34m(\u001b[0m\u001b[0mtf\u001b[0m\u001b[0;34m.\u001b[0m\u001b[0minitialize_all_variables\u001b[0m\u001b[0;34m(\u001b[0m\u001b[0;34m)\u001b[0m\u001b[0;34m)\u001b[0m\u001b[0;34m\u001b[0m\u001b[0m\n\u001b[0;32m----> 4\u001b[0;31m \u001b[0mW1\u001b[0m \u001b[0;34m=\u001b[0m \u001b[0msess\u001b[0m\u001b[0;34m.\u001b[0m\u001b[0mrun\u001b[0m\u001b[0;34m(\u001b[0m\u001b[0mW_1\u001b[0m\u001b[0;34m)\u001b[0m\u001b[0;34m\u001b[0m\u001b[0m\n\u001b[0m\u001b[1;32m      5\u001b[0m \u001b[0;32mprint\u001b[0m\u001b[0;34m(\u001b[0m\u001b[0mW1\u001b[0m\u001b[0;34m.\u001b[0m\u001b[0mshape\u001b[0m\u001b[0;34m)\u001b[0m\u001b[0;34m\u001b[0m\u001b[0m\n\u001b[1;32m      6\u001b[0m \u001b[0mplotLayerRaw\u001b[0m\u001b[0;34m(\u001b[0m\u001b[0mW1\u001b[0m\u001b[0;34m)\u001b[0m\u001b[0;34m\u001b[0m\u001b[0m\n",
      "\u001b[0;31mNameError\u001b[0m: name 'W_1' is not defined"
     ]
    }
   ],
   "source": [
    "# check graph output \n",
    "sess = tf.Session()\n",
    "sess.run(tf.initialize_all_variables())\n",
    "W1 = sess.run(W_1)\n",
    "print(W1.shape)\n",
    "plotLayerRaw(W1)"
   ]
  },
  {
   "cell_type": "code",
   "execution_count": null,
   "metadata": {
    "collapsed": true
   },
   "outputs": [],
   "source": []
  }
 ],
 "metadata": {
  "kernelspec": {
   "display_name": "Python 2",
   "language": "python",
   "name": "python2"
  },
  "language_info": {
   "codemirror_mode": {
    "name": "ipython",
    "version": 2
   },
   "file_extension": ".py",
   "mimetype": "text/x-python",
   "name": "python",
   "nbconvert_exporter": "python",
   "pygments_lexer": "ipython2",
   "version": "2.7.11"
  }
 },
 "nbformat": 4,
 "nbformat_minor": 0
}
