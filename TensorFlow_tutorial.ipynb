{
 "cells": [
  {
   "cell_type": "markdown",
   "metadata": {},
   "source": [
    "# Tensor Flow Introduction\n",
    "November 2016, KN"
   ]
  },
  {
   "cell_type": "code",
   "execution_count": 3,
   "metadata": {
    "collapsed": true
   },
   "outputs": [],
   "source": [
    "# Import modules\n",
    "import tensorflow as tf\n",
    "from tensorflow.examples.tutorials.mnist import input_data"
   ]
  },
  {
   "cell_type": "code",
   "execution_count": null,
   "metadata": {
    "collapsed": true
   },
   "outputs": [],
   "source": [
    "# Import more modules\n",
    "%matplotlib inline\n",
    "import numpy as np\n",
    "import matplotlib.pylab as plt"
   ]
  },
  {
   "cell_type": "markdown",
   "metadata": {},
   "source": [
    "## Intro\n",
    "Going through simple tutorial first, just to go through https://www.tensorflow.org/versions/r0.11/tutorials/mnist/beginners/index.html"
   ]
  },
  {
   "cell_type": "code",
   "execution_count": 4,
   "metadata": {
    "collapsed": false
   },
   "outputs": [
    {
     "name": "stdout",
     "output_type": "stream",
     "text": [
      "Successfully downloaded train-images-idx3-ubyte.gz 9912422 bytes.\n",
      "Extracting MNIST_data/train-images-idx3-ubyte.gz\n",
      "Successfully downloaded train-labels-idx1-ubyte.gz 28881 bytes.\n",
      "Extracting MNIST_data/train-labels-idx1-ubyte.gz\n",
      "Successfully downloaded t10k-images-idx3-ubyte.gz 1648877 bytes.\n",
      "Extracting MNIST_data/t10k-images-idx3-ubyte.gz\n",
      "Successfully downloaded t10k-labels-idx1-ubyte.gz 4542 bytes.\n",
      "Extracting MNIST_data/t10k-labels-idx1-ubyte.gz\n"
     ]
    }
   ],
   "source": [
    "# Load up MNIST data\n",
    "mnist = input_data.read_data_sets(\"MNIST_data/\", one_hot=True)"
   ]
  },
  {
   "cell_type": "code",
   "execution_count": 27,
   "metadata": {
    "collapsed": false
   },
   "outputs": [
    {
     "name": "stdout",
     "output_type": "stream",
     "text": [
      "Dimensions of training set: (55000, 784)\n"
     ]
    },
    {
     "data": {
      "text/plain": [
       "<matplotlib.collections.QuadMesh at 0x11fd78890>"
      ]
     },
     "execution_count": 27,
     "metadata": {},
     "output_type": "execute_result"
    },
    {
     "data": {
      "image/png": "[encoded data removed]",
      "text/plain": [
       "<matplotlib.figure.Figure at 0x120b2e710>"
      ]
     },
     "metadata": {},
     "output_type": "display_data"
    }
   ],
   "source": [
    "# Illustrate raw data\n",
    "print('Dimensions of training set: {0}'.format(np.shape(mnist.train.images)))\n",
    "exInd = 5\n",
    "exImage = mnist.train.images[exInd,:].reshape(28,-1)  # 28x28 pixels in each image\n",
    "plt.pcolormesh(exImage, cmap='Blues')"
   ]
  },
  {
   "cell_type": "code",
   "execution_count": 48,
   "metadata": {
    "collapsed": false
   },
   "outputs": [],
   "source": [
    "# Set-up tensor flow variables\n",
    "dimen = 28*28  # Size of images and therefore the imput vectors\n",
    "numClasses = 10   # Number of possible digits (0-9)\n",
    "\n",
    "# Placeholders\n",
    "x = tf.placeholder(tf.float32, shape=[None, dimen])\n",
    "# None means dimension can be of any length\n",
    "# Doing this to create placeholder for each 28x28 pixel image\n",
    "y_true = tf.placeholder(tf.float32, shape=[None, numClasses])\n",
    "# one-hot vector indivating true digit class\n",
    "\n",
    "# Variables\n",
    "# (model parameters are usually tensorflow variables)\n",
    "# Need to initialize values for variables\n",
    "w = tf.Variable(tf.zeros([dimen,numClasses]))\n",
    "b = tf.Variable(tf.zeros([numClasses]))\n",
    "\n",
    "# Softmax\n",
    "y = tf.nn.softmax(tf.matmul(x,w) + b)\n",
    "\n",
    "# Cross-entropy\n",
    "cross_entropy = tf.reduce_mean(-tf.reduce_sum(y_true*tf.log(y), reduction_indices=[1]))\n",
    "# tf.reduce_mean gets mean cross-entropy for all samples\n",
    "# more numerically stable:\n",
    "#cross_entropy = tf.reduce_mean(tf.nn.softmax_cross_entropy_with_logits(y, y_true))\n",
    "# but then softmax already taken, so would remove from y function \n",
    "\n",
    "# Need to initialize variables and launch a session\n",
    "# Session is connection to C++ code backend to do computation\n",
    "# First, create graph and then launch in a session\n",
    "init = tf.initialize_all_variables()\n",
    "sess = tf.Session()\n",
    "sess.run(init)"
   ]
  },
  {
   "cell_type": "code",
   "execution_count": 49,
   "metadata": {
    "collapsed": true
   },
   "outputs": [],
   "source": [
    "# Optimize\n",
    "learnRate = 0.5\n",
    "train_step = tf.train.GradientDescentOptimizer(learnRate).minimize(cross_entropy)\n",
    "# When this step is run, it will apply gradient descent updates to params\n",
    "\n",
    "# Running training step\n",
    "numSteps = 1000\n",
    "batchSize = 100\n",
    "for i in range(numSteps):\n",
    "    batch_xs, batch_ys = mnist.train.next_batch(batchSize)\n",
    "    sess.run(train_step, feed_dict={x: batch_xs, y_true: batch_ys})\n",
    "    # feed_dict replaces placeholders with training examples\n",
    "    # (can use feed_dict to replace any tensor in computation graph)"
   ]
  },
  {
   "cell_type": "code",
   "execution_count": 50,
   "metadata": {
    "collapsed": true
   },
   "outputs": [],
   "source": [
    "# Look at performance in training data\n",
    "predLabels = tf.argmax(y,1)\n",
    "trueLabels = tf.argmax(y_true,1)\n",
    "\n",
    "ifCorrect = tf.equal(predLabels, trueLabels)\n",
    "\n",
    "accFunc = tf.reduce_mean(tf.cast(ifCorrect, tf.float32))"
   ]
  },
  {
   "cell_type": "code",
   "execution_count": 51,
   "metadata": {
    "collapsed": false
   },
   "outputs": [
    {
     "name": "stdout",
     "output_type": "stream",
     "text": [
      "Test accuracy: 91.81%\n"
     ]
    }
   ],
   "source": [
    "# Look at performance in test data\n",
    "\n",
    "testPerf_acc = sess.run(accFunc, feed_dict={x:mnist.test.images, y_true:mnist.test.labels})\n",
    "print('Test accuracy: {0:.2f}%'.format(100*testPerf_acc))"
   ]
  },
  {
   "cell_type": "markdown",
   "metadata": {},
   "source": [
    "## With interactive session\n",
    "\n",
    "https://www.tensorflow.org/versions/r0.11/tutorials/mnist/pros/index.html"
   ]
  },
  {
   "cell_type": "code",
   "execution_count": 53,
   "metadata": {
    "collapsed": false
   },
   "outputs": [
    {
     "name": "stdout",
     "output_type": "stream",
     "text": [
      "Test accuracy: 91.95%\n"
     ]
    }
   ],
   "source": [
    "# Or, can use an interactive session\n",
    "# With interactive session, can interleave graph-building and graph-running operations\n",
    "sess2 = tf.InteractiveSession()\n",
    "\n",
    "# (As above)\n",
    "dimen = 28*28  # Size of images and therefore the imput vectors\n",
    "numClasses = 10   # Number of possible digits (0-9)\n",
    "# Placeholders\n",
    "x = tf.placeholder(tf.float32, shape=[None, dimen])\n",
    "y_ = tf.placeholder(tf.float32, shape=[None, numClasses])\n",
    "# Variables\n",
    "w = tf.Variable(tf.zeros([dimen,numClasses]))\n",
    "b = tf.Variable(tf.zeros([numClasses]))\n",
    "# Regression model\n",
    "y = tf.matmul(x,w) + b\n",
    "# Cross-entropy\n",
    "cross_entropy = tf.reduce_mean(tf.nn.softmax_cross_entropy_with_logits(y, y_))\n",
    "\n",
    "sess2.run(tf.initialize_all_variables())\n",
    "\n",
    "# Optimize\n",
    "learnRate = 0.5\n",
    "train_step = tf.train.GradientDescentOptimizer(learnRate).minimize(cross_entropy)\n",
    "\n",
    "# Running training step\n",
    "numSteps = 1000\n",
    "batchSize = 100\n",
    "for i in range(numSteps):\n",
    "    batch = mnist.train.next_batch(batchSize)\n",
    "    train_step.run(feed_dict={x: batch[0], y_: batch[1]})\n",
    "    \n",
    "# Look at performance\n",
    "predLabels = tf.argmax(y,1)\n",
    "trueLabels = tf.argmax(y_,1)\n",
    "\n",
    "ifCorrect = tf.equal(predLabels, trueLabels)\n",
    "accFunc = tf.reduce_mean(tf.cast(ifCorrect, tf.float32))\n",
    "\n",
    "testPerf_acc = accFunc.eval(feed_dict={x: mnist.test.images, y_: mnist.test.labels})\n",
    "print('Test accuracy: {0:.2f}%'.format(100*testPerf_acc))\n"
   ]
  },
  {
   "cell_type": "markdown",
   "metadata": {},
   "source": [
    "## Simply conv net\n",
    "\n",
    "https://www.tensorflow.org/versions/r0.11/tutorials/mnist/pros/index.html\n",
    "\n",
    "Remember: CNN is a bunch of convolution layers + ReLU applied\n",
    "(where the filters [= conv layers = kernels = filters = feature detectors] are learned)"
   ]
  },
  {
   "cell_type": "code",
   "execution_count": null,
   "metadata": {
    "collapsed": true
   },
   "outputs": [],
   "source": [
    "# Make some functions \n",
    "\n",
    "def weight_variable(shape):\n",
    "    \"\"\"Want weight initializations to have noise for symmetry breaking\"\"\"\n",
    "    initial = tf.truncated_normal(shape, stddev=0.1)\n",
    "    return tf.Variable(initial)\n",
    "\n",
    "def bias_variable(shape):\n",
    "    \"\"\"Want positive bias for ReLU neurons to avoid dead neurons (i.e., never activate)\"\"\"\n",
    "    initial = tf.constant(0.1, shape=shape)\n",
    "    return tf.Variable(initial)\n",
    "\n",
    "def conv2d(x,W):\n",
    "    \"\"\"Want to set stride and keep zero padding\n",
    "    \n",
    "    Zero padding: means that when applying convolution at edges, pad with zeros \n",
    "    to enable the computation (vs. narrow convolution)\n",
    "    \n",
    "    Stride size: amount to shift filter in each step\n",
    "    \"\"\"\n",
    "    return tf.nn.conv2d(x,W, strides=[1,1,1,1], padding='SAME')\n",
    "\n",
    "def max_pool_2x2(x):\n",
    "    \"\"\"Want to do max pooling over 2x2 blocks\"\"\"\n",
    "    return tf.nn.max_pool(x, ksize=[1,2,2,1], strides=[1,2,2,1], padding='SAME')"
   ]
  },
  {
   "cell_type": "code",
   "execution_count": null,
   "metadata": {
    "collapsed": true
   },
   "outputs": [],
   "source": [
    "# Set variables\n",
    "patchSize = [5,5]\n",
    "numInputChannels = 1  # (number color channels)\n",
    "numOutputChannels = 32\n",
    "dim1side = 28\n",
    "\n",
    "# Create first convolutional layer\n",
    "W_conv1 = weight_variable([patchSize[0], patchSize[1], numInputChannels, numOutputChannels])\n",
    "b_conv1 = bias_variable([numOutputChannels])\n",
    "\n",
    "# reshape images into 4d tensor of: [numExamples, width, height, num color channels]\n",
    "x_image = tf.reshape(x, [-1, dim1side, dim1side,numInputChannels])\n",
    "\n",
    "# convolve image with weight tensor and add bias\n",
    "conv1 = conv2d(x_image, W_conv1) + b_conv1\n",
    "# apply ReLU function\n",
    "h_conv1 = tf.nn.relu(conv1)\n",
    "# max pool\n",
    "h_pool1 = max_pool_2x2(h_conv1)"
   ]
  },
  {
   "cell_type": "code",
   "execution_count": 54,
   "metadata": {
    "collapsed": false
   },
   "outputs": [
    {
     "data": {
      "text/plain": [
       "()"
      ]
     },
     "execution_count": 54,
     "metadata": {},
     "output_type": "execute_result"
    }
   ],
   "source": [
    "np.shape(x)"
   ]
  },
  {
   "cell_type": "code",
   "execution_count": 58,
   "metadata": {
    "collapsed": false
   },
   "outputs": [
    {
     "data": {
      "text/plain": [
       "array([[16, 13],\n",
       "       [12, 11]])"
      ]
     },
     "execution_count": 58,
     "metadata": {},
     "output_type": "execute_result"
    }
   ],
   "source": [
    "A = [[3,2], [1,4]]\n",
    "B = [[4,3],[2,2]]\n",
    "\n",
    "np.dot(A,B)"
   ]
  },
  {
   "cell_type": "code",
   "execution_count": null,
   "metadata": {
    "collapsed": true
   },
   "outputs": [],
   "source": []
  },
  {
   "cell_type": "code",
   "execution_count": null,
   "metadata": {
    "collapsed": true
   },
   "outputs": [],
   "source": []
  },
  {
   "cell_type": "code",
   "execution_count": null,
   "metadata": {
    "collapsed": true
   },
   "outputs": [],
   "source": []
  }
 ],
 "metadata": {
  "kernelspec": {
   "display_name": "Python 2",
   "language": "python",
   "name": "python2"
  },
  "language_info": {
   "codemirror_mode": {
    "name": "ipython",
    "version": 2
   },
   "file_extension": ".py",
   "mimetype": "text/x-python",
   "name": "python",
   "nbconvert_exporter": "python",
   "pygments_lexer": "ipython2",
   "version": "2.7.11"
  }
 },
 "nbformat": 4,
 "nbformat_minor": 0
}
