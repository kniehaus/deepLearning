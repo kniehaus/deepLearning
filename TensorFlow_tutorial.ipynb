{
 "cells": [
  {
   "cell_type": "markdown",
   "metadata": {},
   "source": [
    "# Tensor Flow Introduction\n",
    "November 2016, KN"
   ]
  },
  {
   "cell_type": "code",
   "execution_count": 1,
   "metadata": {
    "collapsed": true
   },
   "outputs": [],
   "source": [
    "# Import modules\n",
    "import tensorflow as tf\n",
    "from tensorflow.examples.tutorials.mnist import input_data"
   ]
  },
  {
   "cell_type": "code",
   "execution_count": 4,
   "metadata": {
    "collapsed": true
   },
   "outputs": [],
   "source": [
    "# Import more modules\n",
    "%matplotlib inline\n",
    "import numpy as np\n",
    "import matplotlib.pylab as plt"
   ]
  },
  {
   "cell_type": "markdown",
   "metadata": {},
   "source": [
    "## Intro\n",
    "Going through simple tutorial first, just to go through https://www.tensorflow.org/versions/r0.11/tutorials/mnist/beginners/index.html"
   ]
  },
  {
   "cell_type": "code",
   "execution_count": 3,
   "metadata": {
    "collapsed": false
   },
   "outputs": [
    {
     "name": "stdout",
     "output_type": "stream",
     "text": [
      "Extracting MNIST_data/train-images-idx3-ubyte.gz\n",
      "Extracting MNIST_data/train-labels-idx1-ubyte.gz\n",
      "Extracting MNIST_data/t10k-images-idx3-ubyte.gz\n",
      "Extracting MNIST_data/t10k-labels-idx1-ubyte.gz\n"
     ]
    }
   ],
   "source": [
    "# Load up MNIST data\n",
    "mnist = input_data.read_data_sets(\"/Users/kateniehaus/General_code/data/MNIST_data/\", one_hot=True)"
   ]
  },
  {
   "cell_type": "code",
   "execution_count": null,
   "metadata": {
    "collapsed": false
   },
   "outputs": [],
   "source": [
    "# Illustrate raw data\n",
    "print('Dimensions of training set: {0}'.format(np.shape(mnist.train.images)))\n",
    "exInd = 5\n",
    "exImage = mnist.train.images[exInd,:].reshape(28,-1)  # 28x28 pixels in each image\n",
    "plt.pcolormesh(exImage, cmap='Blues')"
   ]
  },
  {
   "cell_type": "code",
   "execution_count": null,
   "metadata": {
    "collapsed": false
   },
   "outputs": [],
   "source": [
    "# Set-up tensor flow variables\n",
    "dimen = 28*28  # Size of images and therefore the imput vectors\n",
    "numClasses = 10   # Number of possible digits (0-9)\n",
    "\n",
    "# Placeholders\n",
    "x = tf.placeholder(tf.float32, shape=[None, dimen])\n",
    "# None means dimension can be of any length\n",
    "# Doing this to create placeholder for each 28x28 pixel image\n",
    "y_true = tf.placeholder(tf.float32, shape=[None, numClasses])\n",
    "# one-hot vector indivating true digit class\n",
    "\n",
    "# Variables\n",
    "# (model parameters are usually tensorflow variables)\n",
    "# Need to initialize values for variables\n",
    "w = tf.Variable(tf.zeros([dimen,numClasses]))\n",
    "b = tf.Variable(tf.zeros([numClasses]))\n",
    "\n",
    "# Softmax\n",
    "y = tf.nn.softmax(tf.matmul(x,w) + b)\n",
    "\n",
    "# Cross-entropy\n",
    "cross_entropy = tf.reduce_mean(-tf.reduce_sum(y_true*tf.log(y), reduction_indices=[1]))\n",
    "# tf.reduce_mean gets mean cross-entropy for all samples\n",
    "# more numerically stable:\n",
    "#cross_entropy = tf.reduce_mean(tf.nn.softmax_cross_entropy_with_logits(y, y_true))\n",
    "# but then softmax already taken, so would remove from y function \n",
    "\n",
    "# Need to initialize variables and launch a session\n",
    "# Session is connection to C++ code backend to do computation\n",
    "# First, create graph and then launch in a session\n",
    "init = tf.initialize_all_variables()\n",
    "sess = tf.Session()\n",
    "sess.run(init)"
   ]
  },
  {
   "cell_type": "code",
   "execution_count": null,
   "metadata": {
    "collapsed": true
   },
   "outputs": [],
   "source": [
    "# Optimize\n",
    "learnRate = 0.5\n",
    "train_step = tf.train.GradientDescentOptimizer(learnRate).minimize(cross_entropy)\n",
    "# When this step is run, it will apply gradient descent updates to params\n",
    "\n",
    "# Running training step\n",
    "numSteps = 1000\n",
    "batchSize = 100\n",
    "for i in range(numSteps):\n",
    "    batch_xs, batch_ys = mnist.train.next_batch(batchSize)\n",
    "    sess.run(train_step, feed_dict={x: batch_xs, y_true: batch_ys})\n",
    "    # feed_dict replaces placeholders with training examples\n",
    "    # (can use feed_dict to replace any tensor in computation graph)"
   ]
  },
  {
   "cell_type": "code",
   "execution_count": null,
   "metadata": {
    "collapsed": true
   },
   "outputs": [],
   "source": [
    "# Look at performance in training data\n",
    "predLabels = tf.argmax(y,1)\n",
    "trueLabels = tf.argmax(y_true,1)\n",
    "\n",
    "ifCorrect = tf.equal(predLabels, trueLabels)\n",
    "\n",
    "accFunc = tf.reduce_mean(tf.cast(ifCorrect, tf.float32))"
   ]
  },
  {
   "cell_type": "code",
   "execution_count": null,
   "metadata": {
    "collapsed": false
   },
   "outputs": [],
   "source": [
    "# Look at performance in test data\n",
    "\n",
    "testPerf_acc = sess.run(accFunc, feed_dict={x:mnist.test.images, y_true:mnist.test.labels})\n",
    "print('Test accuracy: {0:.2f}%'.format(100*testPerf_acc))"
   ]
  },
  {
   "cell_type": "markdown",
   "metadata": {},
   "source": [
    "## With interactive session\n",
    "\n",
    "https://www.tensorflow.org/versions/r0.11/tutorials/mnist/pros/index.html"
   ]
  },
  {
   "cell_type": "code",
   "execution_count": 34,
   "metadata": {
    "collapsed": false
   },
   "outputs": [
    {
     "name": "stdout",
     "output_type": "stream",
     "text": [
      "Test accuracy: 91.48%\n"
     ]
    }
   ],
   "source": [
    "# Or, can use an interactive session\n",
    "# With interactive session, can interleave graph-building and graph-running operations\n",
    "sess2 = tf.InteractiveSession()\n",
    "\n",
    "# (As above)\n",
    "dimen = 28*28  # Size of images and therefore the imput vectors\n",
    "numClasses = 10   # Number of possible digits (0-9)\n",
    "# Placeholders\n",
    "x = tf.placeholder(tf.float32, shape=[None, dimen])\n",
    "y_ = tf.placeholder(tf.float32, shape=[None, numClasses])\n",
    "# Variables\n",
    "w = tf.Variable(tf.zeros([dimen,numClasses]))\n",
    "b = tf.Variable(tf.zeros([numClasses]))\n",
    "# Regression model\n",
    "y = tf.matmul(x,w) + b\n",
    "# Cross-entropy\n",
    "cross_entropy = tf.reduce_mean(tf.nn.softmax_cross_entropy_with_logits(y, y_))\n",
    "\n",
    "sess2.run(tf.initialize_all_variables())\n",
    "\n",
    "# Optimize\n",
    "learnRate = 0.5\n",
    "train_step = tf.train.GradientDescentOptimizer(learnRate).minimize(cross_entropy)\n",
    "\n",
    "# Running training step\n",
    "numSteps = 1000\n",
    "batchSize = 100\n",
    "for i in range(numSteps):\n",
    "    batch = mnist.train.next_batch(batchSize)\n",
    "    train_step.run(feed_dict={x: batch[0], y_: batch[1]})\n",
    "    \n",
    "# Look at performance\n",
    "predLabels = tf.argmax(y,1)\n",
    "trueLabels = tf.argmax(y_,1)\n",
    "\n",
    "ifCorrect = tf.equal(predLabels, trueLabels)\n",
    "accFunc = tf.reduce_mean(tf.cast(ifCorrect, tf.float32))\n",
    "\n",
    "testPerf_acc = accFunc.eval(feed_dict={x: mnist.test.images, y_: mnist.test.labels})\n",
    "print('Test accuracy: {0:.2f}%'.format(100*testPerf_acc))\n"
   ]
  },
  {
   "cell_type": "markdown",
   "metadata": {},
   "source": [
    "## Simple conv net\n",
    "\n",
    "https://www.tensorflow.org/versions/r0.11/tutorials/mnist/pros/index.html\n",
    "\n",
    "Remember: CNN is a bunch of convolution layers + ReLU applied\n",
    "(where the filters [= conv layers = kernels = filters = feature detectors] are learned)"
   ]
  },
  {
   "cell_type": "code",
   "execution_count": 2,
   "metadata": {
    "collapsed": true
   },
   "outputs": [],
   "source": [
    "# Make some functions \n",
    "\n",
    "\n",
    "def sizeNextLayer(w,F=3,P=1,S=1):\n",
    "    \"\"\" Returns dimension expected, given parameters for conv layer\n",
    "    \n",
    "    w: int\n",
    "        Width of input\n",
    "        \n",
    "    F: int (default=3)\n",
    "        Receptive field of neuron\n",
    "        \n",
    "    P: int (default=1)\n",
    "        Number of 0s to add for padding of input\n",
    "        \n",
    "    S: int (default=1)\n",
    "        Stride size\n",
    "        \n",
    "    \"\"\"\n",
    "    return (w-F+2*P)/np.float(S) + 1\n",
    "\n",
    "def weight_variable(shape):\n",
    "    \"\"\"Want weight initializations to have noise for symmetry breaking\"\"\"\n",
    "    initial = tf.truncated_normal(shape, stddev=0.1)\n",
    "    # outputs draws from truncated normal w/ mean=0 (default std=1)\n",
    "    # shape should be 1-D\n",
    "    return tf.Variable(initial)\n",
    "\n",
    "def bias_variable(shape):\n",
    "    \"\"\"Want positive bias for ReLU neurons to avoid dead neurons (i.e., never activate)\"\"\"\n",
    "    initial = tf.constant(0.1, shape=shape)\n",
    "    return tf.Variable(initial)\n",
    "\n",
    "def conv2d(x,W, S=1):\n",
    "    \"\"\"Want to set S=1 stride and add zero padding to keep output of same size as input\n",
    "    \n",
    "    Zero padding: means that when applying convolution at edges, pad with zeros \n",
    "    to enable the computation (vs. narrow convolution)\n",
    "    --> 'SAME' means set padding so output size=input size\n",
    "    \n",
    "    Stride size: amount to shift filter in each step\n",
    "    \n",
    "    x: 4D tensor\n",
    "        Input data (batch, height, width, channels)\n",
    "    \n",
    "    W: weights of neuron\n",
    "    \n",
    "    \"\"\"\n",
    "    return tf.nn.conv2d(x,W, strides=[S,S,S,S], padding='SAME')\n",
    "\n",
    "def max_pool_set(x, S=2, F=2):\n",
    "    \"\"\"Want to do max pooling over 2x2 blocks\n",
    "    (means, take max value contained within each 2x2 block)\n",
    "    \n",
    "    x: 4D tensor\n",
    "        Input data (batch, height, width, channels)\n",
    "        \n",
    "    S: int (default=2)\n",
    "        Stride size\n",
    "    \n",
    "    F: int (default=2)\n",
    "        Spatial extent\n",
    "    \n",
    "    Max pooling just operates spatially, so depth in terms of channels=1\n",
    "    \"\"\"\n",
    "    return tf.nn.max_pool(x, ksize=[1,F,F,1], strides=[1,S,S,1], padding='SAME')"
   ]
  },
  {
   "cell_type": "code",
   "execution_count": 6,
   "metadata": {
    "collapsed": false
   },
   "outputs": [
    {
     "data": {
      "text/plain": [
       "32.0"
      ]
     },
     "execution_count": 6,
     "metadata": {},
     "output_type": "execute_result"
    }
   ],
   "source": [
    "# Set variables\n",
    "F = 1   # receptive field of neuron (i.e., patch size)\n",
    "d0 = 1  # (number input color channels)\n",
    "w0 = 28   # width of input (=height)\n",
    "K1 = 32  # number of filters in layer 1\n",
    "K2 = 64   # number of filters in layer 2\n",
    "K3 = 1024    # number of filters in FC layer 3\n",
    "# Padding, P, taken care of internally with TF\n",
    "# We already set S defaults in shortcut functions above\n",
    "S_m = 2  # max-pooling  \n",
    "F_m = 2  # max-pooling\n",
    "nC = 10    # number of classes in final labels\n",
    "\n",
    "# To look at for interest & playing:\n",
    "sizeNextLayer(w0,F=F,P=2,S=1)\n",
    "\n",
    "#w0*w0"
   ]
  },
  {
   "cell_type": "markdown",
   "metadata": {},
   "source": [
    "### Setting up architecture"
   ]
  },
  {
   "cell_type": "code",
   "execution_count": 66,
   "metadata": {
    "collapsed": false
   },
   "outputs": [],
   "source": [
    "# Create first convolutional layer (using shortcut functions above)\n",
    "W_conv1 = weight_variable([F,F, d0, K1])\n",
    "b_conv1 = bias_variable([K1])\n",
    "\n",
    "x = tf.placeholder(tf.float32, shape=[None, w0*w0])\n",
    "y_ = tf.placeholder(tf.float32, shape=[None, nC])\n",
    "\n",
    "# reshape images into 4d tensor of: [numExamples, width, height, num color channels]\n",
    "x_image = tf.reshape(x, [-1, w0, w0,d0])\n",
    "\n",
    "# convolve image with weight tensor and add bias\n",
    "conv1 = conv2d(x_image, W_conv1) + b_conv1\n",
    "# apply ReLU function\n",
    "h_conv1 = tf.nn.relu(conv1)\n",
    "# max pool\n",
    "h_pool1 = max_pool_set(h_conv1, S=S_m, F=F_m)\n",
    "\n",
    "# --> so after max-pooling over 2x2 blocks, 'image' size is 14x14"
   ]
  },
  {
   "cell_type": "code",
   "execution_count": 67,
   "metadata": {
    "collapsed": false
   },
   "outputs": [],
   "source": [
    "# Create second convolutional layer\n",
    "\n",
    "W_conv2 = weight_variable([F,F, K1, K2])\n",
    "b_conv2 = bias_variable([K2])\n",
    "\n",
    "h_conv2 = tf.nn.relu(conv2d(h_pool1, W_conv2) + b_conv2)\n",
    "h_pool2 = max_pool_set(h_conv2, S=S_m, F=F_m)\n",
    "\n",
    "# --> so after max-pooling over 2x2 blocks, 'image' size is 7x7"
   ]
  },
  {
   "cell_type": "code",
   "execution_count": 68,
   "metadata": {
    "collapsed": false
   },
   "outputs": [],
   "source": [
    "# Create FC layer\n",
    "numMaxPools = 2\n",
    "currImSize = w0/(F_m*numMaxPools)\n",
    "\n",
    "W_fc1 = weight_variable([currImSize*currImSize*K2, K3])\n",
    "b_fc1 = bias_variable([K3])\n",
    "\n",
    "h_pool2_flat = tf.reshape(h_pool2, [-1, currImSize*currImSize*K2])\n",
    "h_fc1 = tf.nn.relu(tf.matmul(h_pool2_flat, W_fc1) + b_fc1)\n"
   ]
  },
  {
   "cell_type": "code",
   "execution_count": 69,
   "metadata": {
    "collapsed": true
   },
   "outputs": [],
   "source": [
    "# Add dropout layer\n",
    "# Note: no scaling needed b/c handled behind the scenes by TF\n",
    "\n",
    "keep_prob = tf.placeholder(tf.float32)   # make placeholder so can turn off during testing\n",
    "h_fc1_drop = tf.nn.dropout(h_fc1, keep_prob)  \n"
   ]
  },
  {
   "cell_type": "code",
   "execution_count": 70,
   "metadata": {
    "collapsed": false
   },
   "outputs": [],
   "source": [
    "# Add readout layer\n",
    "\n",
    "W_fc2 = weight_variable([K3, nC])\n",
    "b_fc2 = bias_variable([nC])\n",
    "\n",
    "y_conv = tf.matmul(h_fc1_drop, W_fc2) + b_fc2   #(same form as regression model above)\n",
    "# (for easy comparison, it was: y = tf.matmul(x,w) + b)"
   ]
  },
  {
   "cell_type": "markdown",
   "metadata": {},
   "source": [
    "### Training"
   ]
  },
  {
   "cell_type": "code",
   "execution_count": 71,
   "metadata": {
    "collapsed": false
   },
   "outputs": [],
   "source": [
    "trainRate = 1e-4\n",
    "\n",
    "\n",
    "# Loss\n",
    "cross_entropy = tf.reduce_mean(tf.nn.softmax_cross_entropy_with_logits(y_conv, y_))\n",
    "# (same form as regression above; for easy comparison, it was: \n",
    "# cross_entropy = tf.reduce_mean(tf.nn.softmax_cross_entropy_with_logits(y, y_)))\n",
    "\n",
    "# use ADAM optimizer (stochastic optimizer)\n",
    "train_step = tf.train.AdamOptimizer(trainRate).minimize(cross_entropy)\n",
    "\n",
    "# Look at performance\n",
    "predLabels = tf.argmax(y_conv,1)\n",
    "trueLabels = tf.argmax(y_,1)\n",
    "\n",
    "ifCorrect = tf.equal(predLabels, trueLabels)\n",
    "accFunc = tf.reduce_mean(tf.cast(ifCorrect, tf.float32))"
   ]
  },
  {
   "cell_type": "code",
   "execution_count": 74,
   "metadata": {
    "collapsed": false
   },
   "outputs": [
    {
     "name": "stdout",
     "output_type": "stream",
     "text": [
      "Step 0, training acc = 0.060\n",
      "Step 100, training acc = 0.860\n",
      "Step 200, training acc = 0.860\n",
      "Step 300, training acc = 0.920\n",
      "Step 400, training acc = 0.900\n",
      "Step 500, training acc = 0.960\n",
      "Step 600, training acc = 0.920\n",
      "Step 700, training acc = 0.980\n",
      "Step 800, training acc = 0.960\n",
      "Step 900, training acc = 0.920\n",
      "Step 1000, training acc = 0.980\n",
      "Step 1100, training acc = 0.980\n",
      "Step 1200, training acc = 0.940\n",
      "Step 1300, training acc = 0.960\n",
      "Step 1400, training acc = 0.960\n",
      "Step 1500, training acc = 0.960\n",
      "Step 1600, training acc = 0.940\n",
      "Step 1700, training acc = 0.960\n",
      "Step 1800, training acc = 0.940\n",
      "Step 1900, training acc = 0.980\n",
      "Step 2000, training acc = 0.980\n",
      "Step 2100, training acc = 0.960\n",
      "Step 2200, training acc = 0.940\n",
      "Step 2300, training acc = 1.000\n",
      "Step 2400, training acc = 0.940\n",
      "Step 2500, training acc = 1.000\n",
      "Step 2600, training acc = 0.960\n",
      "Step 2700, training acc = 1.000\n",
      "Step 2800, training acc = 0.980\n",
      "Step 2900, training acc = 1.000\n",
      "Step 3000, training acc = 0.960\n",
      "Step 3100, training acc = 1.000\n",
      "Step 3200, training acc = 0.980\n",
      "Step 3300, training acc = 1.000\n",
      "Step 3400, training acc = 0.980\n",
      "Step 3500, training acc = 0.980\n",
      "Step 3600, training acc = 1.000\n",
      "Step 3700, training acc = 1.000\n",
      "Step 3800, training acc = 1.000\n",
      "Step 3900, training acc = 1.000\n",
      "Step 4000, training acc = 0.980\n",
      "Step 4100, training acc = 1.000\n",
      "Step 4200, training acc = 0.980\n",
      "Step 4300, training acc = 0.980\n",
      "Step 4400, training acc = 0.980\n",
      "Step 4500, training acc = 1.000\n",
      "Step 4600, training acc = 0.980\n",
      "Step 4700, training acc = 1.000\n",
      "Step 4800, training acc = 0.960\n",
      "Step 4900, training acc = 1.000\n",
      "Step 5000, training acc = 1.000\n",
      "Step 5100, training acc = 1.000\n",
      "Step 5200, training acc = 1.000\n",
      "Step 5300, training acc = 0.980\n",
      "Step 5400, training acc = 1.000\n",
      "Step 5500, training acc = 1.000\n",
      "Step 5600, training acc = 0.980\n",
      "Step 5700, training acc = 0.960\n",
      "Step 5800, training acc = 1.000\n",
      "Step 5900, training acc = 0.980\n",
      "Step 6000, training acc = 1.000\n",
      "Step 6100, training acc = 1.000\n",
      "Step 6200, training acc = 1.000\n",
      "Step 6300, training acc = 1.000\n",
      "Step 6400, training acc = 0.980\n",
      "Step 6500, training acc = 1.000\n",
      "Step 6600, training acc = 1.000\n",
      "Step 6700, training acc = 1.000\n",
      "Step 6800, training acc = 0.980\n",
      "Step 6900, training acc = 1.000\n",
      "Step 7000, training acc = 0.960\n",
      "Step 7100, training acc = 1.000\n",
      "Step 7200, training acc = 1.000\n",
      "Step 7300, training acc = 0.980\n",
      "Step 7400, training acc = 1.000\n",
      "Step 7500, training acc = 1.000\n",
      "Step 7600, training acc = 1.000\n",
      "Step 7700, training acc = 1.000\n",
      "Step 7800, training acc = 1.000\n",
      "Step 7900, training acc = 1.000\n",
      "Step 8000, training acc = 1.000\n",
      "Step 8100, training acc = 1.000\n",
      "Step 8200, training acc = 1.000\n",
      "Step 8300, training acc = 1.000\n",
      "Step 8400, training acc = 1.000\n",
      "Step 8500, training acc = 1.000\n",
      "Step 8600, training acc = 0.980\n",
      "Step 8700, training acc = 1.000\n",
      "Step 8800, training acc = 1.000\n",
      "Step 8900, training acc = 1.000\n",
      "Step 9000, training acc = 1.000\n",
      "Step 9100, training acc = 0.980\n",
      "Step 9200, training acc = 1.000\n",
      "Step 9300, training acc = 1.000\n",
      "Step 9400, training acc = 0.980\n",
      "Step 9500, training acc = 0.960\n",
      "Step 9600, training acc = 1.000\n",
      "Step 9700, training acc = 1.000\n",
      "Step 9800, training acc = 1.000\n",
      "Step 9900, training acc = 1.000\n",
      "Step 10000, training acc = 1.000\n",
      "Step 10100, training acc = 1.000\n",
      "Step 10200, training acc = 1.000\n",
      "Step 10300, training acc = 1.000\n",
      "Step 10400, training acc = 1.000\n",
      "Step 10500, training acc = 1.000\n",
      "Step 10600, training acc = 1.000\n",
      "Step 10700, training acc = 1.000\n",
      "Step 10800, training acc = 1.000\n",
      "Step 10900, training acc = 1.000\n",
      "Step 11000, training acc = 1.000\n",
      "Step 11100, training acc = 1.000\n",
      "Step 11200, training acc = 1.000\n",
      "Step 11300, training acc = 1.000\n",
      "Step 11400, training acc = 1.000\n",
      "Step 11500, training acc = 1.000\n",
      "Step 11600, training acc = 1.000\n",
      "Step 11700, training acc = 1.000\n",
      "Step 11800, training acc = 1.000\n",
      "Step 11900, training acc = 1.000\n",
      "Step 12000, training acc = 1.000\n",
      "Step 12100, training acc = 1.000\n",
      "Step 12200, training acc = 1.000\n",
      "Step 12300, training acc = 1.000\n",
      "Step 12400, training acc = 1.000\n",
      "Step 12500, training acc = 0.980\n",
      "Step 12600, training acc = 1.000\n",
      "Step 12700, training acc = 1.000\n",
      "Step 12800, training acc = 0.980\n",
      "Step 12900, training acc = 1.000\n",
      "Step 13000, training acc = 1.000\n",
      "Step 13100, training acc = 0.980\n",
      "Step 13200, training acc = 1.000\n",
      "Step 13300, training acc = 1.000\n",
      "Step 13400, training acc = 1.000\n",
      "Step 13500, training acc = 1.000\n",
      "Step 13600, training acc = 1.000\n",
      "Step 13700, training acc = 1.000\n",
      "Step 13800, training acc = 1.000\n",
      "Step 13900, training acc = 1.000\n",
      "Step 14000, training acc = 1.000\n",
      "Step 14100, training acc = 1.000\n",
      "Step 14200, training acc = 1.000\n",
      "Step 14300, training acc = 1.000\n",
      "Step 14400, training acc = 1.000\n",
      "Step 14500, training acc = 1.000\n",
      "Step 14600, training acc = 1.000\n",
      "Step 14700, training acc = 1.000\n",
      "Step 14800, training acc = 1.000\n",
      "Step 14900, training acc = 1.000\n",
      "Step 15000, training acc = 1.000\n",
      "Step 15100, training acc = 1.000\n",
      "Step 15200, training acc = 1.000\n",
      "Step 15300, training acc = 1.000\n",
      "Step 15400, training acc = 1.000\n",
      "Step 15500, training acc = 1.000\n",
      "Step 15600, training acc = 1.000\n",
      "Step 15700, training acc = 0.980\n",
      "Step 15800, training acc = 1.000\n",
      "Step 15900, training acc = 1.000\n",
      "Step 16000, training acc = 1.000\n",
      "Step 16100, training acc = 1.000\n",
      "Step 16200, training acc = 1.000\n",
      "Step 16300, training acc = 1.000\n",
      "Step 16400, training acc = 1.000\n",
      "Step 16500, training acc = 1.000\n",
      "Step 16600, training acc = 1.000\n",
      "Step 16700, training acc = 1.000\n",
      "Step 16800, training acc = 1.000\n",
      "Step 16900, training acc = 1.000\n",
      "Step 17000, training acc = 1.000\n",
      "Step 17100, training acc = 1.000\n",
      "Step 17200, training acc = 1.000\n",
      "Step 17300, training acc = 1.000\n",
      "Step 17400, training acc = 1.000\n",
      "Step 17500, training acc = 1.000\n",
      "Step 17600, training acc = 1.000\n",
      "Step 17700, training acc = 1.000\n",
      "Step 17800, training acc = 1.000\n",
      "Step 17900, training acc = 1.000\n",
      "Step 18000, training acc = 1.000\n",
      "Step 18100, training acc = 1.000\n",
      "Step 18200, training acc = 1.000\n",
      "Step 18300, training acc = 1.000\n",
      "Step 18400, training acc = 1.000\n",
      "Step 18500, training acc = 1.000\n",
      "Step 18600, training acc = 1.000\n",
      "Step 18700, training acc = 1.000\n",
      "Step 18800, training acc = 1.000\n",
      "Step 18900, training acc = 1.000\n",
      "Step 19000, training acc = 1.000\n",
      "Step 19100, training acc = 1.000\n",
      "Step 19200, training acc = 1.000\n",
      "Step 19300, training acc = 0.980\n",
      "Step 19400, training acc = 1.000\n",
      "Step 19500, training acc = 1.000\n",
      "Step 19600, training acc = 1.000\n",
      "Step 19700, training acc = 1.000\n",
      "Step 19800, training acc = 1.000\n",
      "Step 19900, training acc = 1.000\n",
      "Test accuracy: 99.20%\n"
     ]
    }
   ],
   "source": [
    "# initialize\n",
    "sess3 = tf.InteractiveSession()\n",
    "sess3.run(tf.initialize_all_variables())\n",
    "\n",
    "# Running training step\n",
    "numSteps = 20000\n",
    "batchSize = 50\n",
    "for i in range(numSteps):\n",
    "    batch = mnist.train.next_batch(batchSize)\n",
    "    #batch_x = tf.reshape(batch[0], [-1,28,28,1])\n",
    "    if i%100==0:\n",
    "        train_acc = accFunc.eval(feed_dict={x: batch[0], y_: batch[1], keep_prob:1.0})\n",
    "        print('Step {0}, training acc = {1:.3f}'.format(i, train_acc))\n",
    "    train_step.run(feed_dict={x: batch[0], y_: batch[1], keep_prob:0.5})\n",
    "    \n",
    "    \n",
    "\n",
    "testPerf_acc = accFunc.eval(feed_dict={x: mnist.test.images, y_: mnist.test.labels, keep_prob:1.0})\n",
    "print('Test accuracy: {0:.2f}%'.format(100*testPerf_acc))"
   ]
  },
  {
   "cell_type": "markdown",
   "metadata": {},
   "source": [
    "# Showing some workings\n",
    "\n",
    "Basic idea from: http://cs231n.github.io/convolutional-networks/\n",
    "\n",
    "Writing out some of the math explicitly; \n",
    "Showing how can reshape 3D tensors into 2D matrices and perform dot products between filter and input to produce same result (i.e., filtering is essentially a dot product between input and learned weight matrix)"
   ]
  },
  {
   "cell_type": "code",
   "execution_count": 44,
   "metadata": {
    "collapsed": false
   },
   "outputs": [],
   "source": [
    "# Functions to help\n",
    "\n",
    "def convertImage2ColVec(x, F, P, S):\n",
    "    \"\"\"\n",
    "    Converts 3D image into form in which dot products can \n",
    "    be calculated\n",
    "    (to illustrate approach from CS231n)\n",
    "    \n",
    "    NOTE: image already zero-padded at this point\n",
    "    \n",
    "    x: tensor (w0, h0, d0)\n",
    "        Input image\n",
    "    \n",
    "    F: int\n",
    "        receptive field\n",
    "        \n",
    "    P: int\n",
    "        Amount of zero padding to use around image\n",
    "        \n",
    "    S: int\n",
    "        Stride size\n",
    "    \n",
    "    \"\"\"\n",
    "    w0p,h0p,d0 = np.shape(x)  # already padded\n",
    "    w0 = w0p-2*P\n",
    "    w1 = int(sizeNextLayer(w0,F,P,S))\n",
    "    numR_new = F*F*d0\n",
    "    numC_new = w1*w1\n",
    "    x_col = np.zeros((numR_new, numC_new))  # new matrix to hold output\n",
    "    i2=0\n",
    "    for old_i in range(0,w1,S):\n",
    "        for old_j in range(0,w1,S):\n",
    "            newSlice = x[old_i:old_i+F,old_j:old_j+F,:]\n",
    "            x_col[:,i2] = np.ravel(newSlice.reshape(numR_new,-1))\n",
    "            i2+=1\n",
    "    return x_col\n",
    "    "
   ]
  },
  {
   "cell_type": "code",
   "execution_count": 58,
   "metadata": {
    "collapsed": false
   },
   "outputs": [
    {
     "data": {
      "text/plain": [
       "(9, 784)"
      ]
     },
     "execution_count": 58,
     "metadata": {},
     "output_type": "execute_result"
    },
    {
     "data": {
      "image/png": "[encoded data removed]",
      "text/plain": [
       "<matplotlib.figure.Figure at 0x111b62890>"
      ]
     },
     "metadata": {},
     "output_type": "display_data"
    }
   ],
   "source": [
    "exInd = 7  # indice to choose from mnist\n",
    "w0 = 28   # original width of image in pixels\n",
    "P=1   # amount of padding\n",
    "F = 3  # receptive field of neuron\n",
    "S = 1   # stride\n",
    "d0 = 1    # original depth of image (i.e., number of channels)\n",
    "\n",
    "# get example image\n",
    "exImage = mnist.train.images[exInd,:].reshape(w0,-1)  # 28x28 pixels in each image\n",
    "exImage_3D = mnist.train.images[exInd,:].reshape(w0,-1, 1)  # 28x28 pixels in each image\n",
    "\n",
    "# pad image with zeros \n",
    "exImage_padded = np.pad(exImage,P,'constant', constant_values=0)\n",
    "plt.subplot(1,2,1)\n",
    "plt.pcolormesh(exImage_padded, cmap='Blues')\n",
    "np.shape(exImage_padded)\n",
    "# reshape to 3D\n",
    "exImage_padded_3D = exImage_padded.reshape(w0+2*P,-1,1)\n",
    "np.shape(exImage_padded_3D)\n",
    "\n",
    "w2 = sizeNextLayer(w0,F,P,S)  # get size of next layer\n",
    "\n",
    "# convert to 2D matrix, using function above\n",
    "exImage_cols = convertImage2ColVec(exImage_padded_3D, F=F, P=P, S=S)\n",
    "plt.subplot(1,2,2)\n",
    "plt.pcolormesh(exImage_cols, cmap='Blues')\n",
    "\n",
    "np.shape(exImage_cols)\n",
    "\n",
    "\n"
   ]
  },
  {
   "cell_type": "code",
   "execution_count": 77,
   "metadata": {
    "collapsed": false
   },
   "outputs": [
    {
     "data": {
      "text/plain": [
       "<matplotlib.collections.QuadMesh at 0x1145adc50>"
      ]
     },
     "execution_count": 77,
     "metadata": {},
     "output_type": "execute_result"
    },
    {
     "data": {
      "image/png": "[encoded data removed]",
      "text/plain": [
       "<matplotlib.figure.Figure at 0x11186d1d0>"
      ]
     },
     "metadata": {},
     "output_type": "display_data"
    }
   ],
   "source": [
    "# Illustrate effect of applying filter/conv layer\n",
    "\n",
    "# Set some weights\n",
    "# say single filter\n",
    "Wr_set = np.array([[-1,0,-1],[0,0,0],[-1,0,-1]])\n",
    "K = 1   # number of filters\n",
    "\n",
    "# perform dot product on 2D matrices\n",
    "Wr = np.reshape(Wr_set, (K, F*F*d0) ) # size K x (F*F*d0)\n",
    "Xc = exImage_cols  # size (F*F*d0) x (sizeNextLayer**2)\n",
    "dot_out = np.dot(Wr, Xc)\n",
    "\n",
    "np.shape(dot_out)\n",
    "\n",
    "# reshape back into 3D\n",
    "out_layer = np.reshape(dot_out,(w2, w2, K))\n",
    "\n",
    "# Plot (showing only a single channel)\n",
    "plt.subplot(1,2,1)\n",
    "plt.pcolormesh(exImage, cmap='Blues')\n",
    "plt.subplot(1,2,2)\n",
    "plt.pcolormesh(out_layer[:,:,0], cmap='Blues')"
   ]
  },
  {
   "cell_type": "code",
   "execution_count": null,
   "metadata": {
    "collapsed": true
   },
   "outputs": [],
   "source": []
  },
  {
   "cell_type": "code",
   "execution_count": null,
   "metadata": {
    "collapsed": true
   },
   "outputs": [],
   "source": []
  },
  {
   "cell_type": "markdown",
   "metadata": {},
   "source": [
    "## Quick aside: how to print!?"
   ]
  },
  {
   "cell_type": "code",
   "execution_count": 94,
   "metadata": {
    "collapsed": true
   },
   "outputs": [],
   "source": [
    "sess4 = tf.InteractiveSession()"
   ]
  },
  {
   "cell_type": "code",
   "execution_count": 102,
   "metadata": {
    "collapsed": false
   },
   "outputs": [
    {
     "name": "stdout",
     "output_type": "stream",
     "text": [
      "[[17 35]\n",
      " [39 73]]\n"
     ]
    }
   ],
   "source": [
    "a = np.array([[1,2,3], [4,3,5]])\n",
    "b = np.array([[5,3,2], [7,5,6]])\n",
    "\n",
    "c = np.dot(a,b.T)\n",
    "print(c)"
   ]
  },
  {
   "cell_type": "code",
   "execution_count": 100,
   "metadata": {
    "collapsed": false
   },
   "outputs": [
    {
     "data": {
      "text/plain": [
       "array([[17, 35],\n",
       "       [39, 73]], dtype=int32)"
      ]
     },
     "execution_count": 100,
     "metadata": {},
     "output_type": "execute_result"
    }
   ],
   "source": [
    "a = tf.constant([1,2,3,4,3,5], shape=[2,3])\n",
    "b = tf.constant([5,3,2,7,5,6], shape = [2,3])\n",
    "c = tf.matmul(a, b, transpose_b=True)\n",
    "c = tf.Print(c, [c], message=\"Printing c\")\n",
    "# Have to evaluate and be in a session in order to see output\n",
    "c.eval()"
   ]
  },
  {
   "cell_type": "code",
   "execution_count": 97,
   "metadata": {
    "collapsed": true
   },
   "outputs": [],
   "source": []
  },
  {
   "cell_type": "code",
   "execution_count": null,
   "metadata": {
    "collapsed": true
   },
   "outputs": [],
   "source": []
  },
  {
   "cell_type": "code",
   "execution_count": null,
   "metadata": {
    "collapsed": true
   },
   "outputs": [],
   "source": []
  }
 ],
 "metadata": {
  "kernelspec": {
   "display_name": "Python 2",
   "language": "python",
   "name": "python2"
  },
  "language_info": {
   "codemirror_mode": {
    "name": "ipython",
    "version": 2
   },
   "file_extension": ".py",
   "mimetype": "text/x-python",
   "name": "python",
   "nbconvert_exporter": "python",
   "pygments_lexer": "ipython2",
   "version": "2.7.11"
  }
 },
 "nbformat": 4,
 "nbformat_minor": 0
}
